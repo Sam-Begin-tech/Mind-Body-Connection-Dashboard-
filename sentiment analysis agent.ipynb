{
 "cells": [
  {
   "cell_type": "code",
   "execution_count": 2,
   "metadata": {},
   "outputs": [
    {
     "name": "stderr",
     "output_type": "stream",
     "text": [
      "C:\\Users\\HP\\AppData\\Local\\Temp\\ipykernel_7364\\1624279651.py:22: LangChainDeprecationWarning: The class `OpenAI` was deprecated in LangChain 0.0.10 and will be removed in 1.0. An updated version of the class exists in the :class:`~langchain-openai package and should be used instead. To use it run `pip install -U :class:`~langchain-openai` and import as `from :class:`~langchain_openai import OpenAI``.\n",
      "  llm = OpenAI(temperature=0)\n",
      "C:\\Users\\HP\\AppData\\Local\\Temp\\ipykernel_7364\\1624279651.py:40: LangChainDeprecationWarning: The method `BaseLLM.__call__` was deprecated in langchain-core 0.1.7 and will be removed in 1.0. Use :meth:`~invoke` instead.\n",
      "  response = llm(prompt)\n"
     ]
    },
    {
     "name": "stdout",
     "output_type": "stream",
     "text": [
      "{\n",
      "    \"detailed_results\": [\n",
      "        {\n",
      "            \"date\": \"2024-11-22\",\n",
      "            \"entry\": \"I feel really anxious about the upcoming presentation. It's overwhelming.\",\n",
      "            \"sentiment\": \"negative\",\n",
      "            \"suggestion\": \"It might be helpful to take some deep breaths and try to break down the presentation into smaller, manageable tasks. Remember to focus on your strengths and try to stay calm and confident.\"\n",
      "        },\n",
      "        {\n",
      "            \"date\": \"2024-11-21\",\n",
      "            \"entry\": \"Had a great day today! Felt accomplished after finishing all my tasks.\",\n",
      "            \"sentiment\": \"positive\",\n",
      "            \"suggestion\": \"Keep up the good work and continue setting and achieving your goals!\"\n",
      "        }\n",
      "    ],\n",
      "    \"overall_summary\": \"\\n\\nOverall, the emotional state of the journal entries is mostly positive with one entry expressing anxiety. This results in a sentiment breakdown of 50% positive, 50% negative, and 0% neutral. The advice for the user is to continue setting and achieving goals, but also to remember to take breaks and manage overwhelming feelings.\"\n",
      "}\n"
     ]
    },
    {
     "data": {
      "text/plain": [
       "'\\n\\nOverall, the emotional state of the journal entries is mostly positive with one entry expressing anxiety. This results in a sentiment breakdown of 50% positive, 50% negative, and 0% neutral. The advice for the user is to continue setting and achieving goals, but also to remember to take breaks and manage overwhelming feelings.'"
      ]
     },
     "execution_count": 2,
     "metadata": {},
     "output_type": "execute_result"
    }
   ],
   "source": [
    "from langchain.chains import SimpleSequentialChain\n",
    "from langchain.prompts import PromptTemplate\n",
    "from langchain.llms import OpenAI\n",
    "import json\n",
    "\n",
    "# Mock user journal data\n",
    "mock_journal_data = {\n",
    "    \"user_id\": \"12345\",\n",
    "    \"journal_entries\": [\n",
    "        {\n",
    "            \"date\": \"2024-11-22\",\n",
    "            \"entry\": \"I feel really anxious about the upcoming presentation. It's overwhelming.\"\n",
    "        },\n",
    "        {\n",
    "            \"date\": \"2024-11-21\",\n",
    "            \"entry\": \"Had a great day today! Felt accomplished after finishing all my tasks.\"\n",
    "        }\n",
    "    ]\n",
    "}\n",
    "\n",
    "# Initialize LLM\n",
    "llm = OpenAI(temperature=0)\n",
    "\n",
    "# Define Prompt for Sentiment Analysis and Suggestions\n",
    "sentiment_prompt = PromptTemplate(\n",
    "    input_variables=[\"entry\"],\n",
    "    template=(\n",
    "        \"Analyze the following journal entry for sentiment (positive, negative, or neutral) \"\n",
    "        \"and provide an emotional suggestion based on the sentiment:\\n\\n\"\n",
    "        \"Journal Entry: {entry}\\n\\n\"\n",
    "        \"Response should be JSON with keys 'sentiment' and 'suggestion'.\"\n",
    "    ),\n",
    ")\n",
    "\n",
    "# First Chain: Analyze sentiment and provide suggestions\n",
    "def sentiment_analysis_chain(journal_data):\n",
    "    results = []\n",
    "    for entry in journal_data[\"journal_entries\"]:\n",
    "        prompt = sentiment_prompt.format(entry=entry[\"entry\"])\n",
    "        response = llm(prompt)\n",
    "        response_json = json.loads(response)  # Ensure JSON output\n",
    "        results.append({\n",
    "            \"date\": entry[\"date\"],\n",
    "            \"entry\": entry[\"entry\"],\n",
    "            \"sentiment\": response_json.get(\"sentiment\", \"neutral\"),\n",
    "            \"suggestion\": response_json.get(\"suggestion\", \"Keep on you day!\")\n",
    "        })\n",
    "\n",
    "    return results\n",
    "\n",
    "# Define Prompt for Overall Summary\n",
    "summary_prompt = PromptTemplate(\n",
    "    input_variables=[\"results\"],\n",
    "    template=(\n",
    "        \"Here are the detailed sentiment results for a set of journal entries:\\n\"\n",
    "        \"{results}\\n\\n\"\n",
    "        \"Summarize the overall emotional state, providing percentages for positive, negative, \"\n",
    "        \"and neutral sentiments, and any overarching advice for the user.\"\n",
    "    ),\n",
    ")\n",
    "\n",
    "# Second Chain: Generate overall summary\n",
    "def generate_summary_chain(results):\n",
    "    formatted_results = json.dumps(results, indent=2)\n",
    "    prompt = summary_prompt.format(results=formatted_results)\n",
    "    response = llm(prompt)\n",
    "    return response\n",
    "\n",
    "# Perform Sequential Chaining\n",
    "def analyze_journals_with_chains(journal_data):\n",
    "    # Step 1: Analyze sentiment and suggestions\n",
    "    detailed_results = sentiment_analysis_chain(journal_data)\n",
    "    \n",
    "    # Step 2: Generate overall summary\n",
    "    overall_summary = generate_summary_chain(detailed_results)\n",
    "    \n",
    "    # Combine outputs\n",
    "    return {\n",
    "        \"detailed_results\": detailed_results,\n",
    "        \"overall_summary\": overall_summary\n",
    "    }\n",
    "\n",
    "# Analyze the mock data\n",
    "output = analyze_journals_with_chains(mock_journal_data)\n",
    "\n",
    "# Print results\n",
    "print(json.dumps(output, indent=4))\n",
    "a=json.dumps(output, indent=4)\n",
    "a_dict = json.loads(a)\n",
    "\n",
    "# Access the overall summary\n",
    "overall_summary = a_dict[\"overall_summary\"]\n",
    "overall_summary\n"
   ]
  },
  {
   "cell_type": "code",
   "execution_count": 3,
   "metadata": {},
   "outputs": [
    {
     "data": {
      "text/plain": [
       "'\\n\\nOverall, the emotional state of the journal entries is mostly positive with one entry expressing anxiety. This results in a sentiment breakdown of 50% positive, 50% negative, and 0% neutral. The advice for the user is to continue setting and achieving goals, but also to remember to take breaks and manage overwhelming feelings.'"
      ]
     },
     "execution_count": 3,
     "metadata": {},
     "output_type": "execute_result"
    }
   ],
   "source": [
    "a_dict = json.loads(a)\n",
    "\n",
    "# Access the overall summary\n",
    "overall_summary = a_dict[\"overall_summary\"]\n",
    "overall_summary"
   ]
  },
  {
   "cell_type": "code",
   "execution_count": null,
   "metadata": {},
   "outputs": [],
   "source": []
  },
  {
   "cell_type": "code",
   "execution_count": 4,
   "metadata": {},
   "outputs": [],
   "source": [
    "a_dict = json.loads(a)\n",
    "\n",
    "# Access the overall summary\n",
    "overall_summary = a_dict[\"overall_summary\"]"
   ]
  }
 ],
 "metadata": {
  "kernelspec": {
   "display_name": "newenv",
   "language": "python",
   "name": "python3"
  },
  "language_info": {
   "codemirror_mode": {
    "name": "ipython",
    "version": 3
   },
   "file_extension": ".py",
   "mimetype": "text/x-python",
   "name": "python",
   "nbconvert_exporter": "python",
   "pygments_lexer": "ipython3",
   "version": "3.9.13"
  }
 },
 "nbformat": 4,
 "nbformat_minor": 2
}
